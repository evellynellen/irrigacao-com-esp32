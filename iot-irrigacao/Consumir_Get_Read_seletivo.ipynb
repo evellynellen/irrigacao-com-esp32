{
 "cells": [
  {
   "cell_type": "code",
   "execution_count": 3,
   "metadata": {},
   "outputs": [
    {
     "name": "stdout",
     "output_type": "stream",
     "text": [
      "Requirement already satisfied: requests in c:\\users\\admin\\appdata\\local\\programs\\python\\python312\\lib\\site-packages (2.32.3)Note: you may need to restart the kernel to use updated packages.\n"
     ]
    },
    {
     "name": "stderr",
     "output_type": "stream",
     "text": [
      "\n",
      "[notice] A new release of pip is available: 24.2 -> 24.3.1\n",
      "[notice] To update, run: python.exe -m pip install --upgrade pip\n"
     ]
    },
    {
     "name": "stdout",
     "output_type": "stream",
     "text": [
      "\n",
      "Requirement already satisfied: charset-normalizer<4,>=2 in c:\\users\\admin\\appdata\\local\\programs\\python\\python312\\lib\\site-packages (from requests) (3.3.2)\n",
      "Requirement already satisfied: idna<4,>=2.5 in c:\\users\\admin\\appdata\\local\\programs\\python\\python312\\lib\\site-packages (from requests) (3.8)\n",
      "Requirement already satisfied: urllib3<3,>=1.21.1 in c:\\users\\admin\\appdata\\local\\programs\\python\\python312\\lib\\site-packages (from requests) (2.2.2)\n",
      "Requirement already satisfied: certifi>=2017.4.17 in c:\\users\\admin\\appdata\\local\\programs\\python\\python312\\lib\\site-packages (from requests) (2024.8.30)\n"
     ]
    }
   ],
   "source": [
    "%pip install requests"
   ]
  },
  {
   "cell_type": "code",
   "execution_count": 2,
   "metadata": {},
   "outputs": [],
   "source": [
    "import requests"
   ]
  },
  {
   "cell_type": "code",
   "execution_count": 1,
   "metadata": {},
   "outputs": [],
   "source": [
    "base_URL = 'https://upbeat-vast-litter.glitch.me'"
   ]
  },
  {
   "cell_type": "code",
   "execution_count": 4,
   "metadata": {},
   "outputs": [],
   "source": [
    "base_path = f'{base_URL}/sensor_api'"
   ]
  },
  {
   "cell_type": "markdown",
   "metadata": {},
   "source": [
    "# POST/sensor_api\n"
   ]
  },
  {
   "cell_type": "code",
   "execution_count": 5,
   "metadata": {},
   "outputs": [],
   "source": [
    "body_sensor = {\n",
    "     \"umidade\": 1.0,\n",
    "     \"temperatura\": 2.0\n",
    "    }"
   ]
  },
  {
   "cell_type": "code",
   "execution_count": 6,
   "metadata": {},
   "outputs": [],
   "source": [
    "headers_sensor = {\n",
    "    'Content-Type':'application/json'\n",
    "}"
   ]
  },
  {
   "cell_type": "code",
   "execution_count": 7,
   "metadata": {},
   "outputs": [],
   "source": [
    "resposta_post_sensor = requests.request('POST', base_path, json=body_sensor, headers=headers_sensor)"
   ]
  },
  {
   "cell_type": "code",
   "execution_count": 8,
   "metadata": {},
   "outputs": [
    {
     "name": "stdout",
     "output_type": "stream",
     "text": [
      "Dado gravado com sucesso\n"
     ]
    }
   ],
   "source": [
    "if resposta_post_sensor.status_code == 201:\n",
    "    print('Dado gravado com sucesso')\n",
    "else:\n",
    "    raise ValueError (f'Servidor retornou status {resposta_post_sensor.status_code} ao tentar gravar os dados')"
   ]
  },
  {
   "cell_type": "markdown",
   "metadata": {},
   "source": [
    "# GET/sensor_api"
   ]
  },
  {
   "cell_type": "code",
   "execution_count": 9,
   "metadata": {},
   "outputs": [],
   "source": [
    "resposta_sensor = requests.get(base_path)"
   ]
  },
  {
   "cell_type": "code",
   "execution_count": 10,
   "metadata": {},
   "outputs": [
    {
     "name": "stdout",
     "output_type": "stream",
     "text": [
      "[{'id': 1, 'umidade': 30.0, 'temperatura': 0.0, 'data': '2024-11-18T19:50:18.827491'}, {'id': 2, 'umidade': 30.0, 'temperatura': 0.0, 'data': '2024-11-18T19:50:32.416166'}, {'id': 3, 'umidade': 30.0, 'temperatura': 0.0, 'data': '2024-11-18T19:50:45.419568'}, {'id': 4, 'umidade': 30.0, 'temperatura': 0.0, 'data': '2024-11-18T19:51:00.415703'}, {'id': 5, 'umidade': 30.0, 'temperatura': 0.0, 'data': '2024-11-18T19:51:12.312430'}, {'id': 6, 'umidade': 30.0, 'temperatura': 0.0, 'data': '2024-11-18T19:51:24.119580'}, {'id': 7, 'umidade': 30.0, 'temperatura': 0.0, 'data': '2024-11-18T19:51:35.645158'}, {'id': 8, 'umidade': 30.0, 'temperatura': 0.0, 'data': '2024-11-18T19:51:47.472832'}, {'id': 9, 'umidade': 28.0, 'temperatura': 0.0, 'data': '2024-11-18T19:51:59.418188'}, {'id': 10, 'umidade': 30.0, 'temperatura': 0.0, 'data': '2024-11-18T19:52:11.238081'}, {'id': 11, 'umidade': 30.0, 'temperatura': 0.0, 'data': '2024-11-18T19:52:24.535717'}, {'id': 12, 'umidade': 30.0, 'temperatura': 0.0, 'data': '2024-11-18T19:52:37.914209'}, {'id': 13, 'umidade': 30.0, 'temperatura': 0.0, 'data': '2024-11-18T19:52:53.304017'}, {'id': 14, 'umidade': 30.0, 'temperatura': 0.0, 'data': '2024-11-18T19:53:05.921771'}, {'id': 15, 'umidade': 30.0, 'temperatura': 0.0, 'data': '2024-11-18T19:53:19.218542'}, {'id': 16, 'umidade': 30.0, 'temperatura': 0.0, 'data': '2024-11-18T19:53:33.019866'}, {'id': 17, 'umidade': 30.0, 'temperatura': 0.0, 'data': '2024-11-18T19:53:47.294742'}, {'id': 18, 'umidade': 28.0, 'temperatura': 0.0, 'data': '2024-11-18T19:53:59.584259'}, {'id': 19, 'umidade': 30.0, 'temperatura': 0.0, 'data': '2024-11-18T19:54:13.319036'}, {'id': 20, 'umidade': 30.0, 'temperatura': 0.0, 'data': '2024-11-18T19:54:26.017887'}, {'id': 21, 'umidade': 30.0, 'temperatura': 0.0, 'data': '2024-11-18T19:54:38.064770'}, {'id': 22, 'umidade': 30.0, 'temperatura': 0.0, 'data': '2024-11-18T19:54:52.912365'}, {'id': 23, 'umidade': 30.0, 'temperatura': 0.0, 'data': '2024-11-18T19:55:07.212661'}, {'id': 24, 'umidade': 30.0, 'temperatura': 0.0, 'data': '2024-11-18T19:55:19.856567'}, {'id': 25, 'umidade': 30.0, 'temperatura': 0.0, 'data': '2024-11-18T19:55:32.746958'}, {'id': 26, 'umidade': 29.0, 'temperatura': 0.0, 'data': '2024-11-18T19:55:46.878294'}, {'id': 27, 'umidade': 29.0, 'temperatura': 0.0, 'data': '2024-11-18T19:56:00.206168'}, {'id': 28, 'umidade': 30.0, 'temperatura': 0.0, 'data': '2024-11-18T19:56:12.921087'}, {'id': 29, 'umidade': 30.0, 'temperatura': 0.0, 'data': '2024-11-18T19:56:25.011459'}, {'id': 30, 'umidade': 32.0, 'temperatura': 0.0, 'data': '2024-11-18T19:56:36.860231'}, {'id': 31, 'umidade': 33.0, 'temperatura': 0.0, 'data': '2024-11-18T19:56:48.620198'}, {'id': 32, 'umidade': 32.0, 'temperatura': 0.0, 'data': '2024-11-18T19:57:00.416049'}, {'id': 33, 'umidade': 32.0, 'temperatura': 0.0, 'data': '2024-11-18T19:57:12.291360'}, {'id': 34, 'umidade': 32.0, 'temperatura': 0.0, 'data': '2024-11-18T19:57:24.023474'}, {'id': 35, 'umidade': 32.0, 'temperatura': 0.0, 'data': '2024-11-18T19:57:35.880821'}, {'id': 36, 'umidade': 32.0, 'temperatura': 0.0, 'data': '2024-11-18T19:57:47.498929'}, {'id': 37, 'umidade': 32.0, 'temperatura': 0.0, 'data': '2024-11-18T19:57:59.441030'}, {'id': 38, 'umidade': 32.0, 'temperatura': 0.0, 'data': '2024-11-18T19:58:11.513530'}, {'id': 39, 'umidade': 32.0, 'temperatura': 0.0, 'data': '2024-11-18T19:58:24.312065'}, {'id': 40, 'umidade': 32.0, 'temperatura': 0.0, 'data': '2024-11-18T19:58:36.922994'}, {'id': 41, 'umidade': 32.0, 'temperatura': 0.0, 'data': '2024-11-18T19:58:49.623344'}, {'id': 42, 'umidade': 31.0, 'temperatura': 0.0, 'data': '2024-11-18T19:59:01.813407'}, {'id': 43, 'umidade': 31.0, 'temperatura': 0.0, 'data': '2024-11-18T19:59:14.414274'}, {'id': 44, 'umidade': 31.0, 'temperatura': 0.0, 'data': '2024-11-18T19:59:26.740586'}, {'id': 45, 'umidade': 31.0, 'temperatura': 0.0, 'data': '2024-11-18T19:59:38.311008'}, {'id': 46, 'umidade': 32.0, 'temperatura': 0.0, 'data': '2024-11-18T19:59:50.015276'}, {'id': 47, 'umidade': 31.0, 'temperatura': 0.0, 'data': '2024-11-18T20:00:01.720184'}, {'id': 48, 'umidade': 31.0, 'temperatura': 0.0, 'data': '2024-11-18T20:00:13.816286'}, {'id': 49, 'umidade': 31.0, 'temperatura': 0.0, 'data': '2024-11-18T20:00:25.912406'}, {'id': 50, 'umidade': 31.0, 'temperatura': 0.0, 'data': '2024-11-18T20:00:37.521018'}, {'id': 51, 'umidade': 31.0, 'temperatura': 0.0, 'data': '2024-11-18T20:00:49.014927'}, {'id': 52, 'umidade': 31.0, 'temperatura': 0.0, 'data': '2024-11-18T20:01:00.923567'}, {'id': 53, 'umidade': 31.0, 'temperatura': 0.0, 'data': '2024-11-18T20:01:12.616146'}, {'id': 54, 'umidade': 31.0, 'temperatura': 0.0, 'data': '2024-11-18T20:01:24.406601'}, {'id': 55, 'umidade': 31.0, 'temperatura': 0.0, 'data': '2024-11-18T20:01:36.712946'}, {'id': 56, 'umidade': 31.0, 'temperatura': 0.0, 'data': '2024-11-18T20:01:48.417148'}, {'id': 57, 'umidade': 31.0, 'temperatura': 0.0, 'data': '2024-11-18T20:02:00.311594'}, {'id': 58, 'umidade': 31.0, 'temperatura': 0.0, 'data': '2024-11-18T20:02:12.213464'}, {'id': 59, 'umidade': 31.0, 'temperatura': 0.0, 'data': '2024-11-18T20:02:24.022847'}, {'id': 60, 'umidade': 31.0, 'temperatura': 0.0, 'data': '2024-11-18T20:02:35.876814'}, {'id': 61, 'umidade': 31.0, 'temperatura': 0.0, 'data': '2024-11-18T20:02:47.951836'}, {'id': 62, 'umidade': 31.0, 'temperatura': 0.0, 'data': '2024-11-18T20:02:59.823272'}, {'id': 63, 'umidade': 30.0, 'temperatura': 0.0, 'data': '2024-11-18T20:03:11.699932'}, {'id': 64, 'umidade': 30.0, 'temperatura': 0.0, 'data': '2024-11-18T20:03:23.716244'}, {'id': 65, 'umidade': 30.0, 'temperatura': 0.0, 'data': '2024-11-18T20:03:35.263416'}, {'id': 66, 'umidade': 30.0, 'temperatura': 0.0, 'data': '2024-11-18T20:03:46.946137'}, {'id': 67, 'umidade': 30.0, 'temperatura': 0.0, 'data': '2024-11-18T20:03:59.114223'}, {'id': 68, 'umidade': 30.0, 'temperatura': 0.0, 'data': '2024-11-18T20:04:10.923343'}, {'id': 69, 'umidade': 30.0, 'temperatura': 0.0, 'data': '2024-11-18T20:04:22.789855'}, {'id': 70, 'umidade': 30.0, 'temperatura': 0.0, 'data': '2024-11-18T20:04:34.711580'}, {'id': 71, 'umidade': 30.0, 'temperatura': 0.0, 'data': '2024-11-18T20:04:46.537339'}, {'id': 72, 'umidade': 30.0, 'temperatura': 0.0, 'data': '2024-11-18T20:04:58.522135'}, {'id': 73, 'umidade': 30.0, 'temperatura': 0.0, 'data': '2024-11-18T20:05:10.748928'}, {'id': 74, 'umidade': 29.0, 'temperatura': 0.0, 'data': '2024-11-18T20:05:22.596399'}, {'id': 75, 'umidade': 29.0, 'temperatura': 0.0, 'data': '2024-11-18T20:05:34.513311'}, {'id': 76, 'umidade': 30.0, 'temperatura': 0.0, 'data': '2024-11-18T20:05:46.335690'}, {'id': 77, 'umidade': 29.0, 'temperatura': 0.0, 'data': '2024-11-18T20:05:58.260508'}, {'id': 78, 'umidade': 30.0, 'temperatura': 0.0, 'data': '2024-11-18T20:06:10.123803'}, {'id': 79, 'umidade': 30.0, 'temperatura': 0.0, 'data': '2024-11-18T20:06:22.023562'}, {'id': 80, 'umidade': 30.0, 'temperatura': 0.0, 'data': '2024-11-18T20:06:33.652260'}, {'id': 81, 'umidade': 30.0, 'temperatura': 0.0, 'data': '2024-11-18T20:06:45.539140'}, {'id': 82, 'umidade': 29.0, 'temperatura': 0.0, 'data': '2024-11-18T20:06:57.318431'}, {'id': 83, 'umidade': 29.0, 'temperatura': 0.0, 'data': '2024-11-18T20:07:09.117283'}, {'id': 84, 'umidade': 30.0, 'temperatura': 0.0, 'data': '2024-11-18T20:07:20.918135'}, {'id': 85, 'umidade': 29.0, 'temperatura': 0.0, 'data': '2024-11-18T20:07:33.153819'}, {'id': 86, 'umidade': 29.0, 'temperatura': 0.0, 'data': '2024-11-18T20:07:44.759984'}, {'id': 87, 'umidade': 29.0, 'temperatura': 0.0, 'data': '2024-11-18T20:07:56.615757'}, {'id': 88, 'umidade': 29.0, 'temperatura': 0.0, 'data': '2024-11-18T20:08:08.259490'}, {'id': 89, 'umidade': 29.0, 'temperatura': 0.0, 'data': '2024-11-18T20:08:20.346026'}, {'id': 90, 'umidade': 29.0, 'temperatura': 0.0, 'data': '2024-11-18T20:08:32.314704'}, {'id': 91, 'umidade': 29.0, 'temperatura': 0.0, 'data': '2024-11-18T20:08:44.316613'}, {'id': 92, 'umidade': 29.0, 'temperatura': 0.0, 'data': '2024-11-18T20:08:56.215161'}, {'id': 93, 'umidade': 28.0, 'temperatura': 0.0, 'data': '2024-11-18T20:09:08.064126'}, {'id': 94, 'umidade': 29.0, 'temperatura': 0.0, 'data': '2024-11-18T20:09:19.813883'}, {'id': 95, 'umidade': 29.0, 'temperatura': 0.0, 'data': '2024-11-18T20:09:31.687153'}, {'id': 96, 'umidade': 29.0, 'temperatura': 0.0, 'data': '2024-11-18T20:09:43.511604'}, {'id': 97, 'umidade': 29.0, 'temperatura': 0.0, 'data': '2024-11-18T20:09:55.917619'}, {'id': 98, 'umidade': 29.0, 'temperatura': 0.0, 'data': '2024-11-18T20:10:07.715571'}, {'id': 99, 'umidade': 29.0, 'temperatura': 0.0, 'data': '2024-11-18T20:10:19.612462'}, {'id': 100, 'umidade': 29.0, 'temperatura': 0.0, 'data': '2024-11-18T20:10:31.429686'}, {'id': 101, 'umidade': 29.0, 'temperatura': 0.0, 'data': '2024-11-18T20:10:43.297427'}, {'id': 102, 'umidade': 29.0, 'temperatura': 0.0, 'data': '2024-11-18T20:10:55.212452'}, {'id': 103, 'umidade': 29.0, 'temperatura': 0.0, 'data': '2024-11-18T20:11:07.113585'}, {'id': 104, 'umidade': 28.0, 'temperatura': 0.0, 'data': '2024-11-18T20:11:18.937628'}, {'id': 105, 'umidade': 28.0, 'temperatura': 0.0, 'data': '2024-11-18T20:11:30.842441'}, {'id': 106, 'umidade': 29.0, 'temperatura': 0.0, 'data': '2024-11-18T20:11:42.309753'}, {'id': 107, 'umidade': 28.0, 'temperatura': 0.0, 'data': '2024-11-18T20:11:54.211770'}, {'id': 108, 'umidade': 28.0, 'temperatura': 0.0, 'data': '2024-11-18T20:12:05.832294'}, {'id': 109, 'umidade': 29.0, 'temperatura': 0.0, 'data': '2024-11-18T20:12:18.215691'}, {'id': 110, 'umidade': 29.0, 'temperatura': 0.0, 'data': '2024-11-18T20:12:30.030234'}, {'id': 111, 'umidade': 28.0, 'temperatura': 0.0, 'data': '2024-11-18T20:12:41.923827'}, {'id': 112, 'umidade': 28.0, 'temperatura': 0.0, 'data': '2024-11-18T20:12:53.818958'}, {'id': 113, 'umidade': 28.0, 'temperatura': 0.0, 'data': '2024-11-18T20:13:05.487975'}, {'id': 114, 'umidade': 28.0, 'temperatura': 0.0, 'data': '2024-11-18T20:13:17.339932'}, {'id': 115, 'umidade': 28.0, 'temperatura': 0.0, 'data': '2024-11-18T20:13:29.381798'}, {'id': 116, 'umidade': 28.0, 'temperatura': 0.0, 'data': '2024-11-18T20:13:41.315549'}, {'id': 117, 'umidade': 28.0, 'temperatura': 0.0, 'data': '2024-11-18T20:13:53.570572'}, {'id': 118, 'umidade': 28.0, 'temperatura': 0.0, 'data': '2024-11-18T20:14:05.521224'}, {'id': 119, 'umidade': 28.0, 'temperatura': 0.0, 'data': '2024-11-18T20:14:17.415640'}, {'id': 120, 'umidade': 28.0, 'temperatura': 0.0, 'data': '2024-11-18T20:14:29.594525'}, {'id': 121, 'umidade': 27.0, 'temperatura': 0.0, 'data': '2024-11-18T20:14:41.324374'}, {'id': 122, 'umidade': 28.0, 'temperatura': 0.0, 'data': '2024-11-18T20:14:53.221842'}, {'id': 123, 'umidade': 27.0, 'temperatura': 0.0, 'data': '2024-11-18T20:15:04.913720'}, {'id': 124, 'umidade': 28.0, 'temperatura': 0.0, 'data': '2024-11-18T20:15:16.716983'}, {'id': 125, 'umidade': 28.0, 'temperatura': 0.0, 'data': '2024-11-18T20:15:28.430366'}, {'id': 126, 'umidade': 28.0, 'temperatura': 0.0, 'data': '2024-11-18T20:15:40.514089'}, {'id': 127, 'umidade': 27.0, 'temperatura': 0.0, 'data': '2024-11-18T20:15:53.015324'}, {'id': 128, 'umidade': 28.0, 'temperatura': 0.0, 'data': '2024-11-18T20:16:05.215748'}, {'id': 129, 'umidade': 28.0, 'temperatura': 0.0, 'data': '2024-11-18T20:16:17.017107'}, {'id': 130, 'umidade': 28.0, 'temperatura': 0.0, 'data': '2024-11-18T20:16:28.812367'}, {'id': 131, 'umidade': 27.0, 'temperatura': 0.0, 'data': '2024-11-18T20:16:41.015538'}, {'id': 132, 'umidade': 27.0, 'temperatura': 0.0, 'data': '2024-11-18T20:16:52.818871'}, {'id': 133, 'umidade': 27.0, 'temperatura': 0.0, 'data': '2024-11-18T20:17:04.635174'}, {'id': 134, 'umidade': 28.0, 'temperatura': 0.0, 'data': '2024-11-18T20:17:16.100914'}, {'id': 135, 'umidade': 27.0, 'temperatura': 0.0, 'data': '2024-11-18T20:17:27.988792'}, {'id': 136, 'umidade': 27.0, 'temperatura': 0.0, 'data': '2024-11-18T20:17:39.912018'}, {'id': 137, 'umidade': 27.0, 'temperatura': 0.0, 'data': '2024-11-18T20:17:51.950083'}, {'id': 138, 'umidade': 27.0, 'temperatura': 0.0, 'data': '2024-11-18T20:18:03.912166'}, {'id': 139, 'umidade': 27.0, 'temperatura': 0.0, 'data': '2024-11-18T20:18:15.491258'}, {'id': 140, 'umidade': 27.0, 'temperatura': 0.0, 'data': '2024-11-18T20:18:27.387879'}, {'id': 141, 'umidade': 27.0, 'temperatura': 0.0, 'data': '2024-11-18T20:18:39.216898'}, {'id': 142, 'umidade': 27.0, 'temperatura': 0.0, 'data': '2024-11-18T20:18:51.014281'}, {'id': 143, 'umidade': 27.0, 'temperatura': 0.0, 'data': '2024-11-18T20:19:03.215908'}, {'id': 144, 'umidade': 27.0, 'temperatura': 0.0, 'data': '2024-11-18T20:19:15.326369'}, {'id': 145, 'umidade': 27.0, 'temperatura': 0.0, 'data': '2024-11-18T20:19:27.015126'}, {'id': 146, 'umidade': 27.0, 'temperatura': 0.0, 'data': '2024-11-18T20:19:38.895772'}, {'id': 147, 'umidade': 27.0, 'temperatura': 0.0, 'data': '2024-11-18T20:19:50.735373'}, {'id': 148, 'umidade': 27.0, 'temperatura': 0.0, 'data': '2024-11-18T20:20:02.712324'}, {'id': 149, 'umidade': 28.0, 'temperatura': 0.0, 'data': '2024-11-18T20:20:14.917463'}, {'id': 150, 'umidade': 27.0, 'temperatura': 0.0, 'data': '2024-11-18T20:20:26.811594'}, {'id': 151, 'umidade': 27.0, 'temperatura': 0.0, 'data': '2024-11-18T20:20:38.718751'}, {'id': 152, 'umidade': 28.0, 'temperatura': 0.0, 'data': '2024-11-18T20:20:50.617825'}, {'id': 153, 'umidade': 27.0, 'temperatura': 0.0, 'data': '2024-11-18T20:21:02.674432'}, {'id': 154, 'umidade': 28.0, 'temperatura': 0.0, 'data': '2024-11-18T20:21:14.314963'}, {'id': 155, 'umidade': 27.0, 'temperatura': 0.0, 'data': '2024-11-18T20:21:26.639392'}, {'id': 156, 'umidade': 27.0, 'temperatura': 0.0, 'data': '2024-11-18T20:21:38.464328'}, {'id': 157, 'umidade': 27.0, 'temperatura': 0.0, 'data': '2024-11-18T20:21:50.343639'}, {'id': 158, 'umidade': 27.0, 'temperatura': 0.0, 'data': '2024-11-18T20:22:02.414652'}, {'id': 159, 'umidade': 27.0, 'temperatura': 0.0, 'data': '2024-11-18T20:22:14.317011'}, {'id': 160, 'umidade': 28.0, 'temperatura': 0.0, 'data': '2024-11-18T20:22:26.620015'}, {'id': 161, 'umidade': 27.0, 'temperatura': 0.0, 'data': '2024-11-18T20:22:38.471588'}, {'id': 162, 'umidade': 27.0, 'temperatura': 0.0, 'data': '2024-11-18T20:22:50.132597'}, {'id': 163, 'umidade': 27.0, 'temperatura': 0.0, 'data': '2024-11-18T20:23:02.127870'}, {'id': 164, 'umidade': 27.0, 'temperatura': 0.0, 'data': '2024-11-18T20:23:13.921792'}, {'id': 165, 'umidade': 27.0, 'temperatura': 0.0, 'data': '2024-11-18T20:23:25.766929'}, {'id': 166, 'umidade': 27.0, 'temperatura': 0.0, 'data': '2024-11-18T20:23:37.857565'}, {'id': 167, 'umidade': 26.0, 'temperatura': 0.0, 'data': '2024-11-18T20:23:49.740814'}, {'id': 168, 'umidade': 27.0, 'temperatura': 0.0, 'data': '2024-11-18T20:24:01.713121'}, {'id': 169, 'umidade': 27.0, 'temperatura': 0.0, 'data': '2024-11-18T20:24:13.723339'}, {'id': 170, 'umidade': 27.0, 'temperatura': 0.0, 'data': '2024-11-18T20:24:26.029649'}, {'id': 171, 'umidade': 27.0, 'temperatura': 0.0, 'data': '2024-11-18T20:24:38.068664'}, {'id': 172, 'umidade': 27.0, 'temperatura': 0.0, 'data': '2024-11-18T20:24:50.126480'}, {'id': 173, 'umidade': 26.0, 'temperatura': 0.0, 'data': '2024-11-18T20:25:02.149214'}, {'id': 174, 'umidade': 27.0, 'temperatura': 0.0, 'data': '2024-11-18T20:25:13.914937'}, {'id': 175, 'umidade': 27.0, 'temperatura': 0.0, 'data': '2024-11-18T20:25:25.818147'}, {'id': 176, 'umidade': 27.0, 'temperatura': 0.0, 'data': '2024-11-18T20:25:37.713185'}, {'id': 177, 'umidade': 27.0, 'temperatura': 0.0, 'data': '2024-11-18T20:25:49.820019'}, {'id': 178, 'umidade': 27.0, 'temperatura': 0.0, 'data': '2024-11-18T20:26:01.517011'}, {'id': 179, 'umidade': 27.0, 'temperatura': 0.0, 'data': '2024-11-18T20:26:13.323206'}, {'id': 180, 'umidade': 27.0, 'temperatura': 0.0, 'data': '2024-11-18T20:26:25.257558'}, {'id': 181, 'umidade': 26.0, 'temperatura': 0.0, 'data': '2024-11-18T20:26:37.015253'}, {'id': 182, 'umidade': 27.0, 'temperatura': 0.0, 'data': '2024-11-18T20:26:48.822980'}, {'id': 183, 'umidade': 26.0, 'temperatura': 0.0, 'data': '2024-11-18T20:27:01.117784'}, {'id': 184, 'umidade': 27.0, 'temperatura': 0.0, 'data': '2024-11-18T20:27:12.934634'}, {'id': 185, 'umidade': 26.0, 'temperatura': 0.0, 'data': '2024-11-18T20:27:24.926039'}, {'id': 186, 'umidade': 26.0, 'temperatura': 0.0, 'data': '2024-11-18T20:27:36.513544'}, {'id': 187, 'umidade': 27.0, 'temperatura': 0.0, 'data': '2024-11-18T20:27:48.327736'}, {'id': 188, 'umidade': 26.0, 'temperatura': 0.0, 'data': '2024-11-18T20:28:00.421499'}, {'id': 189, 'umidade': 26.0, 'temperatura': 0.0, 'data': '2024-11-18T20:28:12.560197'}, {'id': 190, 'umidade': 23.0, 'temperatura': 0.0, 'data': '2024-11-18T20:28:24.413341'}, {'id': 191, 'umidade': 26.0, 'temperatura': 0.0, 'data': '2024-11-18T20:28:36.259262'}, {'id': 192, 'umidade': 27.0, 'temperatura': 0.0, 'data': '2024-11-18T20:28:48.015100'}, {'id': 193, 'umidade': 26.0, 'temperatura': 0.0, 'data': '2024-11-18T20:28:59.815172'}, {'id': 194, 'umidade': 30.0, 'temperatura': 0.0, 'data': '2024-11-18T20:30:38.814991'}, {'id': 195, 'umidade': 27.0, 'temperatura': 0.0, 'data': '2024-11-18T20:30:51.225599'}, {'id': 196, 'umidade': 25.0, 'temperatura': 0.0, 'data': '2024-11-18T20:31:03.176087'}, {'id': 197, 'umidade': 26.0, 'temperatura': 0.0, 'data': '2024-11-18T20:31:14.986394'}, {'id': 198, 'umidade': 25.0, 'temperatura': 0.0, 'data': '2024-11-18T20:31:26.855455'}, {'id': 199, 'umidade': 25.0, 'temperatura': 0.0, 'data': '2024-11-18T20:31:39.135090'}, {'id': 200, 'umidade': 25.0, 'temperatura': 0.0, 'data': '2024-11-18T20:31:50.919880'}, {'id': 201, 'umidade': 24.0, 'temperatura': 0.0, 'data': '2024-11-18T20:32:02.695525'}, {'id': 202, 'umidade': 25.0, 'temperatura': 0.0, 'data': '2024-11-18T20:32:14.588030'}, {'id': 203, 'umidade': 24.0, 'temperatura': 0.0, 'data': '2024-11-18T20:32:26.443079'}, {'id': 204, 'umidade': 24.0, 'temperatura': 0.0, 'data': '2024-11-18T20:32:38.411836'}, {'id': 205, 'umidade': 24.0, 'temperatura': 0.0, 'data': '2024-11-18T20:32:50.423063'}, {'id': 206, 'umidade': 24.0, 'temperatura': 0.0, 'data': '2024-11-18T20:33:02.339575'}, {'id': 207, 'umidade': 24.0, 'temperatura': 0.0, 'data': '2024-11-18T20:33:14.189656'}, {'id': 208, 'umidade': 23.0, 'temperatura': 0.0, 'data': '2024-11-18T20:33:26.133938'}, {'id': 209, 'umidade': 23.0, 'temperatura': 0.0, 'data': '2024-11-18T20:33:38.017551'}, {'id': 210, 'umidade': 1.0, 'temperatura': 2.0, 'data': '2024-11-28T10:42:16.535698'}]\n"
     ]
    }
   ],
   "source": [
    "if resposta_sensor.status_code == 200:\n",
    "    sensor_get = resposta_sensor.json()\n",
    "    print(sensor_get)\n",
    "else:\n",
    "    raise ValueError (f'API returned status code {resposta_sensor.status_code} in url {base_path}')"
   ]
  }
 ],
 "metadata": {
  "kernelspec": {
   "display_name": "Python 3",
   "language": "python",
   "name": "python3"
  },
  "language_info": {
   "codemirror_mode": {
    "name": "ipython",
    "version": 3
   },
   "file_extension": ".py",
   "mimetype": "text/x-python",
   "name": "python",
   "nbconvert_exporter": "python",
   "pygments_lexer": "ipython3",
   "version": "3.12.5"
  }
 },
 "nbformat": 4,
 "nbformat_minor": 2
}
